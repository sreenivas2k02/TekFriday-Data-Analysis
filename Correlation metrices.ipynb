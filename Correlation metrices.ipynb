{
 "cells": [
  {
   "cell_type": "code",
   "execution_count": 2,
   "id": "ed67193c",
   "metadata": {},
   "outputs": [
    {
     "name": "stdout",
     "output_type": "stream",
     "text": [
      "Requirement already satisfied: pandas in c:\\users\\dniva\\anaconda3\\lib\\site-packages (2.0.3)\n",
      "Requirement already satisfied: openpyxl in c:\\users\\dniva\\anaconda3\\lib\\site-packages (3.0.10)\n",
      "Requirement already satisfied: python-dateutil>=2.8.2 in c:\\users\\dniva\\anaconda3\\lib\\site-packages (from pandas) (2.8.2)\n",
      "Requirement already satisfied: pytz>=2020.1 in c:\\users\\dniva\\anaconda3\\lib\\site-packages (from pandas) (2023.3.post1)\n",
      "Requirement already satisfied: tzdata>=2022.1 in c:\\users\\dniva\\anaconda3\\lib\\site-packages (from pandas) (2023.3)\n",
      "Requirement already satisfied: numpy>=1.21.0 in c:\\users\\dniva\\anaconda3\\lib\\site-packages (from pandas) (1.24.3)\n",
      "Requirement already satisfied: et_xmlfile in c:\\users\\dniva\\anaconda3\\lib\\site-packages (from openpyxl) (1.1.0)\n",
      "Requirement already satisfied: six>=1.5 in c:\\users\\dniva\\anaconda3\\lib\\site-packages (from python-dateutil>=2.8.2->pandas) (1.16.0)\n",
      "Note: you may need to restart the kernel to use updated packages.\n"
     ]
    },
    {
     "name": "stderr",
     "output_type": "stream",
     "text": [
      "\n",
      "[notice] A new release of pip is available: 24.0 -> 25.1\n",
      "[notice] To update, run: python.exe -m pip install --upgrade pip\n"
     ]
    }
   ],
   "source": [
    "pip install pandas openpyxl\n"
   ]
  },
  {
   "cell_type": "code",
   "execution_count": null,
   "id": "89d537c0",
   "metadata": {},
   "outputs": [],
   "source": [
    "import pandas as pd\n",
    "import numpy as np\n",
    "import seaborn as sns\n",
    "import matplotlib.pyplot as plt\n",
    "try:\n",
    "    recruitment_data = pd.read_excel('Data Analyst Assignment (1).xlsx', sheet_name='Recruitment Data')\n",
    "    engagement_data = pd.read_excel('Data Analyst Assignment (1).xlsx', sheet_name='Employee Engagement Survey Data')\n",
    "    training_data = pd.read_excel('Data Analyst Assignment (1).xlsx', sheet_name='training_and_development_data')\n",
    "except FileNotFoundError:\n",
    "    print(\"Error: 'Data Analyst Assignment (1).xlsx' not found. Please check the file path.\")\n",
    "    exit()\n",
    "recruitment_offered = recruitment_data[recruitment_data['Status'] == 'Offered']\n",
    "location_mapping = {\n",
    "    'Region A': 1,  \n",
    "    'Region B': 2,\n",
    "}\n",
    "recruitment_offered = recruitment_offered.copy()  \n",
    "recruitment_offered['Country'] = recruitment_offered['Country'].map(location_mapping).fillna(0)\n",
    "\n",
    "merged_data = pd.merge(\n",
    "    engagement_data,\n",
    "    training_data,\n",
    "    left_on='Employee ID',\n",
    "    right_on='Employee ID',\n",
    "    how='inner'\n",
    ")\n",
    "\n",
    "correlation_data = pd.merge(\n",
    "    merged_data,\n",
    "    recruitment_offered,\n",
    "    left_on='Employee ID',\n",
    "    right_on='Applicant ID',\n",
    "    how='inner'\n",
    ")\n",
    "\n",
    "correlation_columns = [\n",
    "    'Employee ID',  \n",
    "    'LocationCode',\n",
    "    'Current Employee Rating',\n",
    "    'Engagement Score',\n",
    "    'Satisfaction Score',\n",
    "    'Work-Life Balance Score',\n",
    "    'Training Duration (Days)',\n",
    "    'Training Cost'\n",
    "]\n",
    "\n",
    "available_columns = [col for col in correlation_columns if col in correlation_data.columns]\n",
    "if len(available_columns) < len(correlation_columns):\n",
    "    missing = set(correlation_columns) - set(available_columns)\n",
    "    print(f\"Warning: Missing columns: {missing}\")\n",
    "    print(\"Available columns:\", correlation_data.columns.tolist())\n",
    "\n",
    "correlation_data = correlation_data[available_columns]\n",
    "correlation_data = correlation_data.rename(columns={'Employee ID': 'EmpID'})\n",
    "correlation_data = correlation_data.dropna()\n",
    "correlation_matrix = correlation_data.corr(method='pearson')\n",
    "correlation_matrix = correlation_matrix.round(2)\n",
    "print(\"\\nCorrelation Matrix:\")\n",
    "print(correlation_matrix)\n",
    "plt.figure(figsize=(10, 8))\n",
    "sns.heatmap(\n",
    "    correlation_matrix,\n",
    "    annot=True,  \n",
    "    cmap='RdYlGn',  \n",
    "    center=0, \n",
    "    vmin=-1, vmax=1, \n",
    "    fmt='.2f' \n",
    ")\n",
    "plt.title('Correlation Matrix of Employee Metrics')\n",
    "plt.tight_layout()\n",
    "plt.savefig('correlation_heatmap.png', dpi=300, bbox_inches='tight')\n",
    "plt.show()\n",
    "correlation_matrix.to_csv('correlation_matrix.csv')\n",
    "print(\"\\nCorrelation matrix saved to 'correlation_matrix.csv'\")\n",
    "print(\"Heatmap saved to 'correlation_heatmap.png'\")"
   ]
  },
  {
   "cell_type": "code",
   "execution_count": null,
   "id": "08b8bb0e",
   "metadata": {},
   "outputs": [],
   "source": []
  }
 ],
 "metadata": {
  "kernelspec": {
   "display_name": "Python 3 (ipykernel)",
   "language": "python",
   "name": "python3"
  },
  "language_info": {
   "codemirror_mode": {
    "name": "ipython",
    "version": 3
   },
   "file_extension": ".py",
   "mimetype": "text/x-python",
   "name": "python",
   "nbconvert_exporter": "python",
   "pygments_lexer": "ipython3",
   "version": "3.11.5"
  }
 },
 "nbformat": 4,
 "nbformat_minor": 5
}
